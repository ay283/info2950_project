{
 "cells": [
  {
   "cell_type": "markdown",
   "metadata": {},
   "source": [
    "# INFO 2950 Phase 2"
   ]
  },
  {
   "cell_type": "markdown",
   "metadata": {},
   "source": [
    "### Research question"
   ]
  },
  {
   "cell_type": "markdown",
   "metadata": {},
   "source": [
    "What are the key factors influencing a movie's box office success, and how do these factors differ across various genres? "
   ]
  },
  {
   "cell_type": "markdown",
   "metadata": {},
   "source": [
    "### Data collection and cleaning"
   ]
  },
  {
   "cell_type": "code",
   "execution_count": 27,
   "metadata": {},
   "outputs": [],
   "source": [
    "import numpy as np\n",
    "import pandas as pd\n",
    "import duckdb\n",
    "import matplotlib.pyplot as plt\n",
    "import seaborn as sns"
   ]
  },
  {
   "cell_type": "code",
   "execution_count": 20,
   "metadata": {},
   "outputs": [
    {
     "name": "stderr",
     "output_type": "stream",
     "text": [
      "/var/folders/rj/8b1y14lj1rb1yqx9tb_cdshh0000gn/T/ipykernel_38201/356275408.py:1: DtypeWarning: Columns (10) have mixed types. Specify dtype option on import or set low_memory=False.\n",
      "  movies_data = pd.read_csv(\"data/movies_metadata.csv\")\n"
     ]
    }
   ],
   "source": [
    "movies_data = pd.read_csv(\"data/movies_metadata.csv\")\n",
    "ratings_data = pd.read_csv(\"data/ratings.csv\")"
   ]
  },
  {
   "cell_type": "code",
   "execution_count": 24,
   "metadata": {},
   "outputs": [
    {
     "name": "stdout",
     "output_type": "stream",
     "text": [
      "   adult                              belongs_to_collection    budget  \\\n",
      "0  False  {'id': 10194, 'name': 'Toy Story Collection', ...  30000000   \n",
      "1  False                                                NaN  65000000   \n",
      "2  False  {'id': 119050, 'name': 'Grumpy Old Men Collect...         0   \n",
      "3  False                                                NaN  16000000   \n",
      "4  False  {'id': 96871, 'name': 'Father of the Bride Col...         0   \n",
      "\n",
      "                                              genres  \\\n",
      "0  [{'id': 16, 'name': 'Animation'}, {'id': 35, '...   \n",
      "1  [{'id': 12, 'name': 'Adventure'}, {'id': 14, '...   \n",
      "2  [{'id': 10749, 'name': 'Romance'}, {'id': 35, ...   \n",
      "3  [{'id': 35, 'name': 'Comedy'}, {'id': 18, 'nam...   \n",
      "4                     [{'id': 35, 'name': 'Comedy'}]   \n",
      "\n",
      "                               homepage     id    imdb_id original_language  \\\n",
      "0  http://toystory.disney.com/toy-story    862  tt0114709                en   \n",
      "1                                   NaN   8844  tt0113497                en   \n",
      "2                                   NaN  15602  tt0113228                en   \n",
      "3                                   NaN  31357  tt0114885                en   \n",
      "4                                   NaN  11862  tt0113041                en   \n",
      "\n",
      "                original_title  \\\n",
      "0                    Toy Story   \n",
      "1                      Jumanji   \n",
      "2             Grumpier Old Men   \n",
      "3            Waiting to Exhale   \n",
      "4  Father of the Bride Part II   \n",
      "\n",
      "                                            overview  ... release_date  \\\n",
      "0  Led by Woody, Andy's toys live happily in his ...  ...   1995-10-30   \n",
      "1  When siblings Judy and Peter discover an encha...  ...   1995-12-15   \n",
      "2  A family wedding reignites the ancient feud be...  ...   1995-12-22   \n",
      "3  Cheated on, mistreated and stepped on, the wom...  ...   1995-12-22   \n",
      "4  Just when George Banks has recovered from his ...  ...   1995-02-10   \n",
      "\n",
      "       revenue runtime                                   spoken_languages  \\\n",
      "0  373554033.0    81.0           [{'iso_639_1': 'en', 'name': 'English'}]   \n",
      "1  262797249.0   104.0  [{'iso_639_1': 'en', 'name': 'English'}, {'iso...   \n",
      "2          0.0   101.0           [{'iso_639_1': 'en', 'name': 'English'}]   \n",
      "3   81452156.0   127.0           [{'iso_639_1': 'en', 'name': 'English'}]   \n",
      "4   76578911.0   106.0           [{'iso_639_1': 'en', 'name': 'English'}]   \n",
      "\n",
      "     status                                            tagline  \\\n",
      "0  Released                                                NaN   \n",
      "1  Released          Roll the dice and unleash the excitement!   \n",
      "2  Released  Still Yelling. Still Fighting. Still Ready for...   \n",
      "3  Released  Friends are the people who let you be yourself...   \n",
      "4  Released  Just When His World Is Back To Normal... He's ...   \n",
      "\n",
      "                         title  video vote_average vote_count  \n",
      "0                    Toy Story  False          7.7     5415.0  \n",
      "1                      Jumanji  False          6.9     2413.0  \n",
      "2             Grumpier Old Men  False          6.5       92.0  \n",
      "3            Waiting to Exhale  False          6.1       34.0  \n",
      "4  Father of the Bride Part II  False          5.7      173.0  \n",
      "\n",
      "[5 rows x 24 columns]\n"
     ]
    }
   ],
   "source": [
    "print(movies_data.head())"
   ]
  },
  {
   "cell_type": "code",
   "execution_count": 22,
   "metadata": {},
   "outputs": [
    {
     "name": "stdout",
     "output_type": "stream",
     "text": [
      "   userId  movieId  rating   timestamp\n",
      "0       1      110     1.0  1425941529\n",
      "1       1      147     4.5  1425942435\n",
      "2       1      858     5.0  1425941523\n",
      "3       1     1221     5.0  1425941546\n",
      "4       1     1246     5.0  1425941556\n"
     ]
    }
   ],
   "source": [
    "print(ratings_data.head())"
   ]
  },
  {
   "cell_type": "markdown",
   "metadata": {},
   "source": [
    "### Data description"
   ]
  },
  {
   "cell_type": "markdown",
   "metadata": {},
   "source": [
    "Have an initial draft of your data description section (details below). Your data description should be about your analysis-ready data.\n",
    "\n",
    "- What are the observations (rows) and the attributes (columns)?\n",
    "- Why was this dataset created?\n",
    "- Who funded the creation of the dataset?\n",
    "- What processes might have influenced what data was observed and recorded and what was not?\n",
    "- What preprocessing was done, and how did the data come to be in the form that you are using?\n",
    "- If people are involved, were they aware of the data collection and if so, what purpose did they expect the data to be used for?\n",
    "- Where can your raw source data be found, if applicable? Provide a link to the raw data (hosted on Github, in a Cornell Google Drive or Cornell Box)"
   ]
  },
  {
   "cell_type": "markdown",
   "metadata": {},
   "source": [
    "The dataset contains metadata for 45,000 movies, with each row representing a unique movie. Key attributes include the movie's title, release year, film rating, total runtime, genre(s), IMDB rating, a brief summary, Metacritic score, director's name, leading actors, total votes received, and total box office gross revenue. This dataset was created to provide comprehensive metadata that facilitates analyses related to film performance, audience reception, and industry trends, making it a valuable resource for researchers, marketers, and film enthusiasts. The datasets were created by 2 individuals and posted for public use on Kaggle. The datasets have been downloaded over 300,000 times. Preprocessing steps included data cleaning to remove duplicates and handle missing values (e.g., replacing NaNs in the Gross column with 0 for films without recorded revenue). We also have to transform data which involved standardizing genre formats, such as splitting multiple genres into separate entries, and converting the Released_Year to a numeric format. We also merged additional data from the ratings dataset enriched the analysis with user feedback metrics."
   ]
  },
  {
   "cell_type": "markdown",
   "metadata": {},
   "source": [
    "### Data limitations"
   ]
  },
  {
   "cell_type": "markdown",
   "metadata": {},
   "source": [
    "The dataset that we use will inherently have bias because movie reviews are user-generated and are subjective. Highly-rated movies may attract more votes, while lesser-known films may receive fewer ratings which can skew the average rating of a movie. There could also be temporal bias, where older movies may have fewer ratings or skewed perceptions compared to newer films that have more exposure. Genre classifications can be subjective, leading to inconsistencies in how movies are categorized. Ratings can differ significantly by region or demographic, which is not captured in the dataset. Movie review systems like IMDb are constantly updated, which can lead to versioning issues if datasets are not synchronized properly."
   ]
  },
  {
   "cell_type": "markdown",
   "metadata": {},
   "source": [
    "### Exploratory data analysis"
   ]
  },
  {
   "cell_type": "code",
   "execution_count": null,
   "metadata": {},
   "outputs": [],
   "source": [
    "plot = sns.lineplot(ratings_data, x='timestamp', y='rating')\n",
    "plt.xlabel('Timestamp')\n",
    "plt.ylabel('Rating')\n",
    "plt.title('Ratings by Timestamp')"
   ]
  },
  {
   "cell_type": "markdown",
   "metadata": {},
   "source": [
    "### Questions for reviewers"
   ]
  },
  {
   "cell_type": "markdown",
   "metadata": {},
   "source": [
    "1. Do you find the research question(s) clearly stated? Are they specific enough to guide our analysis?\n",
    "2. Do you think the research question(s) are complex enough to yield interesting insights? If not, what suggestions do you have for enhancing them?\n",
    "3. Do you see any potential issues with the data quality or completeness that we should address before proceeding?\n",
    "4. Do you feel that the data cleaning process is comprehensive enough for the analyses we plan to conduct? Are there any areas you think require more attention?\n",
    "5. Do you have any suggestions for best practices in data cleaning that we may have overlooked?"
   ]
  },
  {
   "cell_type": "markdown",
   "metadata": {},
   "source": []
  }
 ],
 "metadata": {
  "kernelspec": {
   "display_name": "info2950",
   "language": "python",
   "name": "python3"
  },
  "language_info": {
   "codemirror_mode": {
    "name": "ipython",
    "version": 3
   },
   "file_extension": ".py",
   "mimetype": "text/x-python",
   "name": "python",
   "nbconvert_exporter": "python",
   "pygments_lexer": "ipython3",
   "version": "3.12.4"
  }
 },
 "nbformat": 4,
 "nbformat_minor": 2
}
