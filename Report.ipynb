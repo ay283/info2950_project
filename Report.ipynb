{
 "cells": [
  {
   "cell_type": "markdown",
   "metadata": {},
   "source": [
    "# Project Report"
   ]
  },
  {
   "cell_type": "markdown",
   "metadata": {},
   "source": [
    "## Research Question"
   ]
  },
  {
   "cell_type": "markdown",
   "metadata": {},
   "source": [
    "The film industry is interestingly where art and commerce intersect. Our interaction with film and the industry has been in the context of a consumer. Being able to understand what drives audiences to theaters will allow us to gain a deeper understanding of film through a different perspective. As an industry with so much culture and history, we hope to explore the story of cinema. \n",
    "\n",
    "We hope to explore: **What key factors influence a movie's box office success, and how do these factors differ across various genres?**"
   ]
  },
  {
   "cell_type": "markdown",
   "metadata": {},
   "source": [
    "## Data Description"
   ]
  },
  {
   "cell_type": "markdown",
   "metadata": {},
   "source": [
    "**What are the observations (rows) and the attributes (columns)?**  \n",
    "Rows: each row in the dataset represents a unique movie.  \n",
    "Columns:\n",
    "- belongs_to_collection: The series that the movie is a part of, if applicable\n",
    "- budget: The budget used to produce the movie, in dollars\n",
    "- genres: The genres that the movie is a part of\n",
    "- id: The identifier for the movie used by MovieLens\n",
    "- imdb_id: The identifier for the movie used by IMDB\n",
    "- original_language: The original language that the movie was produced in\n",
    "- original_title: The original title of the movie\n",
    "- popularity: The popularity of the movie as measured by MovieLens\n",
    "- production_companies: The companies involved in the production of the movie\n",
    "- production_countries: The countries in which the movie was produced\n",
    "- release_date: The date on which the movie was released\n",
    "- revenue: The revenue generated from the movie, in dollars\n",
    "- runtime: The length of the movie, in minutes\n",
    "- spoken_languages: The languages spoken in the movie\n",
    "- title: The title of the movie\n",
    "- vote_average: The average vote of the movie by TMDB users, out of 10\n",
    "- vote_count: The number of votes received by the movie on TMDB\n",
    "- rating_average: The average rating of the movie by MovieLens users, out of 5\n",
    "- rating_count: The number of ratings received by the movie on MovieLens\n",
    "\n",
    "**Why was this dataset created?**  \n",
    "This dataset was created by GroupLens, a research lab at the University of Minnesota, Twin Cities. The group is made up of students and faculty in the university's Department of Computer Science and Engineering. GroupLens studies social computing by building systems and analyzing their use by people. One of these systems is MovieLens, a website with thousands of registered that helps people find movies to watch. The platform is used to help researchers study content recommendation, user interface design, and other areas of interest. In creating the website, GroupLens compiled movie rating datasets that we use for our project.\n",
    "\n",
    "**Who funded the creation of the dataset?**  \n",
    "The dataset was created by the research lab GroupLens. Its creation was likely funded by this research lab, in the Department of Computer Science and Engineering at the University of Minnesota, Twin Cities.\n",
    "\n",
    "**What processes might have influenced what data was observed and recorded and what was not?**  \n",
    "The dataset relies solely on APIs from TMDB and GroupLens, which means the quality and completeness of the data depend on how these sources collect and maintain their records. If certain movies are less documented or if there are inconsistencies in data entry, this could result in missing or incomplete metadata. Movie ratings are inherently subjective and can vary significantly based on individual viewer preferences, cultural context, and personal experiences. This subjectivity introduces variability that may not accurately reflect the overall quality or success of a film. \n",
    "\n",
    "**What preprocessing was done, and how did the data come to be in the form that you are using?**  \n",
    "The raw source data was taken from 45,000 movies listed in the Full MovieLens Dataset. The dataset is an ensemble of data collected from TMDB and GroupLens. The Movie Details, Credits and Keywords have been collected from the TMDB Open API. The Movie Links and Ratings have been obtained from the Official GroupLens website. The dataset consists of movies released on or before July 2017. The data has been processed for these specific data points: cast, crew, plot keywords, budget, revenue, posters, release dates, languages, production companies, countries, TMDB vote counts, and vote averages.\n",
    "\n",
    "**If people are involved, were they aware of the data collection and if so, what purpose did they expect the data to be used for?**  \n",
    "The individual who created the dataset posted it for public use on Kaggle. There is a CC0: Public Domain license which means this dataset has been dedicated to the public domain because the creator has waived all of their rights to the work worldwide under copyright law. They hope that the dataset can help predict movie revenue/success based on certain metrics. \n",
    "\n",
    "**Where can your raw source data be found, if applicable? Provide a link to the raw data.**  \n",
    "https://grouplens.org/datasets/movielens/latest/"
   ]
  },
  {
   "cell_type": "markdown",
   "metadata": {},
   "source": [
    "### Data Limitations"
   ]
  },
  {
   "cell_type": "markdown",
   "metadata": {},
   "source": [
    "The dataset that we use will inherently have bias because movie reviews are user-generated and are subjective. Highly-rated movies may attract more votes, while lesser-known films may receive fewer ratings which can skew the average rating of a movie. There could also be temporal bias, where older movies may have fewer ratings or skewed perceptions compared to newer films that have more exposure. Genre classifications can be subjective, leading to inconsistencies in how movies are categorized. Ratings can differ significantly by region or demographic, which is not captured in the dataset. Movie review systems like IMDb are constantly updated, which can lead to versioning issues if datasets are not synchronized properly. Especially because the data contains movies released prior to or on July 2017, this does not account for the most recent movies released."
   ]
  },
  {
   "cell_type": "markdown",
   "metadata": {},
   "source": [
    "## Load Data"
   ]
  },
  {
   "cell_type": "code",
   "execution_count": 1,
   "metadata": {
    "vscode": {
     "languageId": "plaintext"
    }
   },
   "outputs": [],
   "source": [
    "import numpy as np\n",
    "import pandas as pd\n",
    "import duckdb\n",
    "import matplotlib.pyplot as plt\n",
    "import seaborn as sns"
   ]
  },
  {
   "cell_type": "code",
   "execution_count": 2,
   "metadata": {},
   "outputs": [
    {
     "name": "stdout",
     "output_type": "stream",
     "text": [
      "(2814, 17)\n"
     ]
    },
    {
     "data": {
      "text/html": [
       "<div>\n",
       "<style scoped>\n",
       "    .dataframe tbody tr th:only-of-type {\n",
       "        vertical-align: middle;\n",
       "    }\n",
       "\n",
       "    .dataframe tbody tr th {\n",
       "        vertical-align: top;\n",
       "    }\n",
       "\n",
       "    .dataframe thead th {\n",
       "        text-align: right;\n",
       "    }\n",
       "</style>\n",
       "<table border=\"1\" class=\"dataframe\">\n",
       "  <thead>\n",
       "    <tr style=\"text-align: right;\">\n",
       "      <th></th>\n",
       "      <th>belongs_to_collection</th>\n",
       "      <th>budget</th>\n",
       "      <th>genres</th>\n",
       "      <th>id</th>\n",
       "      <th>original_english</th>\n",
       "      <th>original_title</th>\n",
       "      <th>popularity</th>\n",
       "      <th>release_date</th>\n",
       "      <th>revenue</th>\n",
       "      <th>runtime</th>\n",
       "      <th>title</th>\n",
       "      <th>vote_average</th>\n",
       "      <th>vote_count</th>\n",
       "      <th>month</th>\n",
       "      <th>holiday</th>\n",
       "      <th>rating_average</th>\n",
       "      <th>rating_count</th>\n",
       "    </tr>\n",
       "  </thead>\n",
       "  <tbody>\n",
       "    <tr>\n",
       "      <th>0</th>\n",
       "      <td>True</td>\n",
       "      <td>58000000</td>\n",
       "      <td>[{'id': 12, 'name': 'Adventure'}, {'id': 28, '...</td>\n",
       "      <td>710</td>\n",
       "      <td>True</td>\n",
       "      <td>GoldenEye</td>\n",
       "      <td>14.686036</td>\n",
       "      <td>1995-11-16</td>\n",
       "      <td>352194034.0</td>\n",
       "      <td>130.0</td>\n",
       "      <td>GoldenEye</td>\n",
       "      <td>6.6</td>\n",
       "      <td>1194.0</td>\n",
       "      <td>11</td>\n",
       "      <td>False</td>\n",
       "      <td>1.500000</td>\n",
       "      <td>2</td>\n",
       "    </tr>\n",
       "    <tr>\n",
       "      <th>1</th>\n",
       "      <td>False</td>\n",
       "      <td>98000000</td>\n",
       "      <td>[{'id': 28, 'name': 'Action'}, {'id': 12, 'nam...</td>\n",
       "      <td>1408</td>\n",
       "      <td>True</td>\n",
       "      <td>Cutthroat Island</td>\n",
       "      <td>7.284477</td>\n",
       "      <td>1995-12-22</td>\n",
       "      <td>10017322.0</td>\n",
       "      <td>119.0</td>\n",
       "      <td>Cutthroat Island</td>\n",
       "      <td>5.7</td>\n",
       "      <td>137.0</td>\n",
       "      <td>12</td>\n",
       "      <td>True</td>\n",
       "      <td>3.616279</td>\n",
       "      <td>43</td>\n",
       "    </tr>\n",
       "    <tr>\n",
       "      <th>2</th>\n",
       "      <td>False</td>\n",
       "      <td>52000000</td>\n",
       "      <td>[{'id': 18, 'name': 'Drama'}, {'id': 80, 'name...</td>\n",
       "      <td>524</td>\n",
       "      <td>True</td>\n",
       "      <td>Casino</td>\n",
       "      <td>10.137389</td>\n",
       "      <td>1995-11-22</td>\n",
       "      <td>116112375.0</td>\n",
       "      <td>178.0</td>\n",
       "      <td>Casino</td>\n",
       "      <td>7.8</td>\n",
       "      <td>1343.0</td>\n",
       "      <td>11</td>\n",
       "      <td>False</td>\n",
       "      <td>3.555556</td>\n",
       "      <td>36</td>\n",
       "    </tr>\n",
       "    <tr>\n",
       "      <th>3</th>\n",
       "      <td>False</td>\n",
       "      <td>16500000</td>\n",
       "      <td>[{'id': 18, 'name': 'Drama'}, {'id': 10749, 'n...</td>\n",
       "      <td>4584</td>\n",
       "      <td>True</td>\n",
       "      <td>Sense and Sensibility</td>\n",
       "      <td>10.673167</td>\n",
       "      <td>1995-12-13</td>\n",
       "      <td>135000000.0</td>\n",
       "      <td>136.0</td>\n",
       "      <td>Sense and Sensibility</td>\n",
       "      <td>7.2</td>\n",
       "      <td>364.0</td>\n",
       "      <td>12</td>\n",
       "      <td>True</td>\n",
       "      <td>5.000000</td>\n",
       "      <td>1</td>\n",
       "    </tr>\n",
       "    <tr>\n",
       "      <th>4</th>\n",
       "      <td>False</td>\n",
       "      <td>4000000</td>\n",
       "      <td>[{'id': 80, 'name': 'Crime'}, {'id': 35, 'name...</td>\n",
       "      <td>5</td>\n",
       "      <td>True</td>\n",
       "      <td>Four Rooms</td>\n",
       "      <td>9.026586</td>\n",
       "      <td>1995-12-09</td>\n",
       "      <td>4300000.0</td>\n",
       "      <td>98.0</td>\n",
       "      <td>Four Rooms</td>\n",
       "      <td>6.5</td>\n",
       "      <td>539.0</td>\n",
       "      <td>12</td>\n",
       "      <td>True</td>\n",
       "      <td>3.267857</td>\n",
       "      <td>56</td>\n",
       "    </tr>\n",
       "  </tbody>\n",
       "</table>\n",
       "</div>"
      ],
      "text/plain": [
       "   belongs_to_collection    budget  \\\n",
       "0                   True  58000000   \n",
       "1                  False  98000000   \n",
       "2                  False  52000000   \n",
       "3                  False  16500000   \n",
       "4                  False   4000000   \n",
       "\n",
       "                                              genres    id  original_english  \\\n",
       "0  [{'id': 12, 'name': 'Adventure'}, {'id': 28, '...   710              True   \n",
       "1  [{'id': 28, 'name': 'Action'}, {'id': 12, 'nam...  1408              True   \n",
       "2  [{'id': 18, 'name': 'Drama'}, {'id': 80, 'name...   524              True   \n",
       "3  [{'id': 18, 'name': 'Drama'}, {'id': 10749, 'n...  4584              True   \n",
       "4  [{'id': 80, 'name': 'Crime'}, {'id': 35, 'name...     5              True   \n",
       "\n",
       "          original_title  popularity release_date      revenue  runtime  \\\n",
       "0              GoldenEye   14.686036   1995-11-16  352194034.0    130.0   \n",
       "1       Cutthroat Island    7.284477   1995-12-22   10017322.0    119.0   \n",
       "2                 Casino   10.137389   1995-11-22  116112375.0    178.0   \n",
       "3  Sense and Sensibility   10.673167   1995-12-13  135000000.0    136.0   \n",
       "4             Four Rooms    9.026586   1995-12-09    4300000.0     98.0   \n",
       "\n",
       "                   title  vote_average  vote_count  month  holiday  \\\n",
       "0              GoldenEye           6.6      1194.0     11    False   \n",
       "1       Cutthroat Island           5.7       137.0     12     True   \n",
       "2                 Casino           7.8      1343.0     11    False   \n",
       "3  Sense and Sensibility           7.2       364.0     12     True   \n",
       "4             Four Rooms           6.5       539.0     12     True   \n",
       "\n",
       "   rating_average  rating_count  \n",
       "0        1.500000             2  \n",
       "1        3.616279            43  \n",
       "2        3.555556            36  \n",
       "3        5.000000             1  \n",
       "4        3.267857            56  "
      ]
     },
     "execution_count": 2,
     "metadata": {},
     "output_type": "execute_result"
    }
   ],
   "source": [
    "data = pd.read_csv(\"data/data.csv\")\n",
    "print(data.shape)\n",
    "data.head()"
   ]
  },
  {
   "cell_type": "markdown",
   "metadata": {},
   "source": [
    "## Preregistration Statement"
   ]
  },
  {
   "cell_type": "markdown",
   "metadata": {},
   "source": [
    "### Hypothesis: Movies with a greater budget (dollars used for production) have higher box office success compared to movies with a lower budget."
   ]
  },
  {
   "cell_type": "markdown",
   "metadata": {},
   "source": [
    "linear regression with budget as the input variable and revenue as the output. We will test whether βbudget > 0 to see if a higher budget is associated with greater revenue.\n",
    "include more input variables, look at p value"
   ]
  },
  {
   "cell_type": "code",
   "execution_count": null,
   "metadata": {},
   "outputs": [],
   "source": []
  },
  {
   "cell_type": "markdown",
   "metadata": {},
   "source": [
    "## Preregistration Statement"
   ]
  },
  {
   "cell_type": "markdown",
   "metadata": {},
   "source": [
    "### Hypothesis: Movies released in holiday seasons (Summer and Winter) have higher box office success compared to movies released in the Spring and Fall seasons."
   ]
  },
  {
   "cell_type": "markdown",
   "metadata": {},
   "source": [
    "linear regression inputting season (as a dummy variable) and outputting revenue. Add a holiday variable for holiday months (December-February and June-August).\n",
    "include more input variables, look at p value"
   ]
  },
  {
   "cell_type": "code",
   "execution_count": null,
   "metadata": {
    "vscode": {
     "languageId": "plaintext"
    }
   },
   "outputs": [],
   "source": []
  }
 ],
 "metadata": {
  "kernelspec": {
   "display_name": "Python 3 (ipykernel)",
   "language": "python",
   "name": "python3"
  },
  "language_info": {
   "codemirror_mode": {
    "name": "ipython",
    "version": 3
   },
   "file_extension": ".py",
   "mimetype": "text/x-python",
   "name": "python",
   "nbconvert_exporter": "python",
   "pygments_lexer": "ipython3",
   "version": "3.12.4"
  }
 },
 "nbformat": 4,
 "nbformat_minor": 4
}
