{
 "cells": [
  {
   "cell_type": "markdown",
   "metadata": {},
   "source": [
    "# Project Report"
   ]
  },
  {
   "cell_type": "markdown",
   "metadata": {},
   "source": [
    "## Research Question"
   ]
  },
  {
   "cell_type": "markdown",
   "metadata": {},
   "source": [
    "The film industry is interestingly where art and commerce intersect. Our interaction with film and the industry has been in the context of a consumer. Being able to understand what drives audiences to theaters will allow us to gain a deeper understanding of film through a different perspective. As an industry with so much culture and history, we hope to explore the story of cinema. \n",
    "\n",
    "We hope to explore: **What key factors influence a movie's box office success, and how do these factors differ across various genres?**"
   ]
  },
  {
   "cell_type": "markdown",
   "metadata": {},
   "source": [
    "## Data Description"
   ]
  },
  {
   "cell_type": "markdown",
   "metadata": {},
   "source": [
    "**What are the observations (rows) and the attributes (columns)?**  \n",
    "Rows: each row in the dataset represents a unique movie.  \n",
    "Columns:\n",
    "- belongs_to_collection: The series that the movie is a part of, if applicable\n",
    "- budget: The budget used to produce the movie, in dollars\n",
    "- genres: The genres that the movie is a part of\n",
    "- id: The identifier for the movie used by MovieLens\n",
    "- imdb_id: The identifier for the movie used by IMDB\n",
    "- original_language: The original language that the movie was produced in\n",
    "- original_title: The original title of the movie\n",
    "- popularity: The popularity of the movie as measured by MovieLens\n",
    "- production_companies: The companies involved in the production of the movie\n",
    "- production_countries: The countries in which the movie was produced\n",
    "- release_date: The date on which the movie was released\n",
    "- revenue: The revenue generated from the movie, in dollars\n",
    "- runtime: The length of the movie, in minutes\n",
    "- spoken_languages: The languages spoken in the movie\n",
    "- title: The title of the movie\n",
    "- vote_average: The average vote of the movie by TMDB users, out of 10\n",
    "- vote_count: The number of votes received by the movie on TMDB\n",
    "- rating_average: The average rating of the movie by MovieLens users, out of 5\n",
    "- rating_count: The number of ratings received by the movie on MovieLens\n",
    "\n",
    "**Why was this dataset created?**  \n",
    "This dataset was created by GroupLens, a research lab at the University of Minnesota, Twin Cities. The group is made up of students and faculty in the university's Department of Computer Science and Engineering. GroupLens studies social computing by building systems and analyzing their use by people. One of these systems is MovieLens, a website with thousands of registered that helps people find movies to watch. The platform is used to help researchers study content recommendation, user interface design, and other areas of interest. In creating the website, GroupLens compiled movie rating datasets that we use for our project.\n",
    "\n",
    "**Who funded the creation of the dataset?**  \n",
    "The dataset was created by the research lab GroupLens. Its creation was likely funded by this research lab, in the Department of Computer Science and Engineering at the University of Minnesota, Twin Cities.\n",
    "\n",
    "**What processes might have influenced what data was observed and recorded and what was not?**  \n",
    "The dataset relies solely on APIs from TMDB and GroupLens, which means the quality and completeness of the data depend on how these sources collect and maintain their records. If certain movies are less documented or if there are inconsistencies in data entry, this could result in missing or incomplete metadata. Movie ratings are inherently subjective and can vary significantly based on individual viewer preferences, cultural context, and personal experiences. This subjectivity introduces variability that may not accurately reflect the overall quality or success of a film. \n",
    "\n",
    "**What preprocessing was done, and how did the data come to be in the form that you are using?**  \n",
    "The raw source data was taken from 45,000 movies listed in the Full MovieLens Dataset. The dataset is an ensemble of data collected from TMDB and GroupLens. The Movie Details, Credits and Keywords have been collected from the TMDB Open API. The Movie Links and Ratings have been obtained from the Official GroupLens website. The dataset consists of movies released on or before July 2017. The data has been processed for these specific data points: cast, crew, plot keywords, budget, revenue, posters, release dates, languages, production companies, countries, TMDB vote counts, and vote averages.\n",
    "\n",
    "**If people are involved, were they aware of the data collection and if so, what purpose did they expect the data to be used for?**  \n",
    "The individual who created the dataset posted it for public use on Kaggle. There is a CC0: Public Domain license which means this dataset has been dedicated to the public domain because the creator has waived all of their rights to the work worldwide under copyright law. They hope that the dataset can help predict movie revenue/success based on certain metrics. \n",
    "\n",
    "**Where can your raw source data be found, if applicable? Provide a link to the raw data.**  \n",
    "https://grouplens.org/datasets/movielens/latest/"
   ]
  },
  {
   "cell_type": "markdown",
   "metadata": {},
   "source": [
    "### Data Limitations"
   ]
  },
  {
   "cell_type": "markdown",
   "metadata": {},
   "source": [
    "The dataset that we use will inherently have bias because movie reviews are user-generated and are subjective. Highly-rated movies may attract more votes, while lesser-known films may receive fewer ratings which can skew the average rating of a movie. There could also be temporal bias, where older movies may have fewer ratings or skewed perceptions compared to newer films that have more exposure. Genre classifications can be subjective, leading to inconsistencies in how movies are categorized. Ratings can differ significantly by region or demographic, which is not captured in the dataset. Movie review systems like IMDb are constantly updated, which can lead to versioning issues if datasets are not synchronized properly. Especially because the data contains movies released prior to or on July 2017, this does not account for the most recent movies released."
   ]
  },
  {
   "cell_type": "markdown",
   "metadata": {},
   "source": [
    "## Preregistration Statement"
   ]
  },
  {
   "cell_type": "markdown",
   "metadata": {},
   "source": [
    "### Hypothesis: Movies with a greater budget (dollars used for production) have higher box office success compared to movies with a lower budget."
   ]
  },
  {
   "cell_type": "markdown",
   "metadata": {},
   "source": [
    "linear regression with budget as the input variable and revenue as the output. We will test whether βbudget > 0 to see if a higher budget is associated with greater revenue.\n",
    "include more input variables, look at p value"
   ]
  },
  {
   "cell_type": "code",
   "execution_count": null,
   "metadata": {
    "vscode": {
     "languageId": "plaintext"
    }
   },
   "outputs": [],
   "source": []
  },
  {
   "cell_type": "markdown",
   "metadata": {},
   "source": [
    "## Preregistration Statement"
   ]
  },
  {
   "cell_type": "markdown",
   "metadata": {},
   "source": [
    "### Hypothesis: Movies released in holiday seasons (Summer and Winter) have higher box office success compared to movies released in the Spring and Fall seasons."
   ]
  },
  {
   "cell_type": "markdown",
   "metadata": {},
   "source": [
    "linear regression inputting season (as a dummy variable) and outputting revenue. Add a holiday variable for holiday months (December-February and June-August).\n",
    "include more input variables, look at p value"
   ]
  },
  {
   "cell_type": "code",
   "execution_count": null,
   "metadata": {
    "vscode": {
     "languageId": "plaintext"
    }
   },
   "outputs": [],
   "source": []
  }
 ],
 "metadata": {
  "kernelspec": {
   "display_name": "info2950",
   "language": "python",
   "name": "python3"
  },
  "language_info": {
   "codemirror_mode": {
    "name": "ipython",
    "version": 3
   },
   "file_extension": ".py",
   "mimetype": "text/x-python",
   "name": "python",
   "nbconvert_exporter": "python",
   "pygments_lexer": "ipython3",
   "version": "3.12.4"
  }
 },
 "nbformat": 4,
 "nbformat_minor": 4
}
